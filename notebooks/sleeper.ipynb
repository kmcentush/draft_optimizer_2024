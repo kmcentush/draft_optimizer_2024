{
 "cells": [
  {
   "cell_type": "code",
   "execution_count": null,
   "id": "0",
   "metadata": {},
   "outputs": [],
   "source": [
    "%load_ext autoreload\n",
    "%autoreload 2"
   ]
  },
  {
   "cell_type": "code",
   "execution_count": null,
   "id": "1",
   "metadata": {},
   "outputs": [],
   "source": [
    "import functools\n",
    "import operator\n",
    "\n",
    "import polars as pl\n",
    "\n",
    "from football.data import read_parquet\n",
    "from football.optimize import Optimizer, roster_to_team_picks_idx_map\n",
    "from football.platforms.sleeper import League"
   ]
  },
  {
   "cell_type": "markdown",
   "id": "2",
   "metadata": {},
   "source": [
    "# Data"
   ]
  },
  {
   "cell_type": "code",
   "execution_count": null,
   "id": "3",
   "metadata": {},
   "outputs": [],
   "source": [
    "# Specify points column; this depends on your league\n",
    "points_col = \"pts_half_ppr\"\n",
    "\n",
    "# Get projections\n",
    "proj = read_parquet(\"weekly_projections.parquet\")\n",
    "proj = proj[[\"player_id\", \"week\", points_col]].drop_nulls(\"pts_half_ppr\")\n",
    "\n",
    "# Get notable players\n",
    "season_proj = proj.group_by(\"player_id\").agg(season=pl.col(points_col).sum())\n",
    "player_ids = season_proj.filter(pl.col(\"season\") > 0)[[\"player_id\"]].sort(\"player_id\")\n",
    "\n",
    "# Pivot\n",
    "proj = proj.pivot(on=\"week\", index=\"player_id\")\n",
    "proj = player_ids.join(proj, on=\"player_id\", how=\"left\").fill_null(0)\n",
    "\n",
    "proj"
   ]
  },
  {
   "cell_type": "code",
   "execution_count": null,
   "id": "4",
   "metadata": {},
   "outputs": [],
   "source": [
    "# Get players\n",
    "players = read_parquet(\"players.parquet\")\n",
    "players = players.join(player_ids, on=\"player_id\", how=\"inner\").sort(\"player_id\")\n",
    "players = players[[\"player_id\", \"full_name\", \"team\", \"position\", \"fantasy_positions\"]]\n",
    "\n",
    "players"
   ]
  },
  {
   "cell_type": "code",
   "execution_count": null,
   "id": "5",
   "metadata": {},
   "outputs": [],
   "source": [
    "# Join\n",
    "data = players.join(proj, on=\"player_id\", how=\"inner\", coalesce=True)\n",
    "\n",
    "# Downselect valid positions\n",
    "valid_positions = {\"QB\", \"RB\", \"WR\", \"TE\", \"K\", \"DEF\"}\n",
    "data = data.filter(pl.col(\"position\").is_in(valid_positions))\n",
    "data = data.with_row_index()\n",
    "\n",
    "data"
   ]
  },
  {
   "cell_type": "markdown",
   "id": "6",
   "metadata": {},
   "source": [
    "# Optimization"
   ]
  },
  {
   "cell_type": "code",
   "execution_count": null,
   "id": "7",
   "metadata": {},
   "outputs": [],
   "source": [
    "# Get league\n",
    "league = League(\"<league_id>\")\n",
    "\n",
    "# Get draft\n",
    "draft = league.get_draft()\n",
    "# OR\n",
    "# from football.platforms.sleeper import Draft\n",
    "# draft = Draft(\"<draft_id>\")"
   ]
  },
  {
   "cell_type": "code",
   "execution_count": null,
   "id": "8",
   "metadata": {},
   "outputs": [],
   "source": [
    "# Initialize optimizer\n",
    "optimizer = Optimizer(\n",
    "    pos_col=\"position\",\n",
    "    week_cols=[str(i + 1) for i in range(17)],  # inclusive; skip week 18 as the championship is week 17\n",
    "    roster_size=league.roster_size,\n",
    "    # Note: position constraints aren't necessarily the league settings\n",
    "    min_pos_const={\"QB\": 1, \"RB\": 2, \"WR\": 2, \"TE\": 1, \"K\": 1, \"DEF\": 1},\n",
    "    max_pos_const={\"QB\": 2, \"RB\": 6, \"WR\": 6, \"TE\": 2, \"K\": 1, \"DEF\": 1},\n",
    ")"
   ]
  },
  {
   "cell_type": "code",
   "execution_count": null,
   "id": "9",
   "metadata": {},
   "outputs": [],
   "source": [
    "# Set state manually\n",
    "# team = 0\n",
    "# team_picks_idx_map = {k: set() for k in range(draft.league_size)}\n",
    "# team_picks_idx_map[team] |= {149, 357, 448}\n",
    "\n",
    "# Set state with live data\n",
    "draft.update_picks()\n",
    "team = draft.get_next_pick()\n",
    "# OR\n",
    "# team = 3  # for auction; note: one-indexed\n",
    "rosters = draft.get_rosters()\n",
    "team_picks_idx_map = roster_to_team_picks_idx_map(data, rosters)\n",
    "\n",
    "# Get all picks\n",
    "all_picks_idx = set(functools.reduce(operator.iadd, [list(v) for v in team_picks_idx_map.values()], []))\n",
    "\n",
    "team"
   ]
  },
  {
   "cell_type": "code",
   "execution_count": null,
   "id": "10",
   "metadata": {},
   "outputs": [],
   "source": [
    "%%time\n",
    "\n",
    "# Optimize once\n",
    "curr_picks_idx = team_picks_idx_map[team]\n",
    "roster_idx = optimizer.optimal_roster(data, curr_picks_idx, all_picks_idx, verbose=False)"
   ]
  },
  {
   "cell_type": "code",
   "execution_count": null,
   "id": "11",
   "metadata": {},
   "outputs": [],
   "source": [
    "# View solution\n",
    "team_data = data[sorted(roster_idx)]\n",
    "team_data = team_data.with_columns(\n",
    "    season_proj=pl.sum_horizontal(optimizer.week_cols), new_pick=~pl.col(\"index\").is_in(curr_picks_idx)\n",
    ")\n",
    "team_data = team_data.sort([\"new_pick\", \"season_proj\"], descending=True)\n",
    "\n",
    "with pl.Config(tbl_rows=-1):\n",
    "    display(team_data[[\"index\", \"player_id\", \"full_name\", \"team\", \"position\", \"season_proj\", \"new_pick\"]])\n",
    "    print(\"Sum of weekly projections for fantasy season:\")\n",
    "    display(team_data[optimizer.week_cols].sum())"
   ]
  },
  {
   "cell_type": "code",
   "execution_count": null,
   "id": "12",
   "metadata": {},
   "outputs": [],
   "source": []
  }
 ],
 "metadata": {
  "kernelspec": {
   "display_name": "Python 3 (ipykernel)",
   "language": "python",
   "name": "python3"
  },
  "language_info": {
   "codemirror_mode": {
    "name": "ipython",
    "version": 3
   },
   "file_extension": ".py",
   "mimetype": "text/x-python",
   "name": "python",
   "nbconvert_exporter": "python",
   "pygments_lexer": "ipython3",
   "version": "3.10.11"
  }
 },
 "nbformat": 4,
 "nbformat_minor": 5
}
